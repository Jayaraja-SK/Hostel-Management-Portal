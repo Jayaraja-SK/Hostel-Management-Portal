{
 "cells": [
  {
   "cell_type": "code",
   "execution_count": 2,
   "metadata": {},
   "outputs": [],
   "source": [
    "from PIL import Image\n",
    "import numpy as np\n",
    "from IPython import display\n",
    "\n",
    "import pyaes\n",
    "import pbkdf2\n",
    "import binascii\n",
    "import os\n",
    "import secrets"
   ]
  },
  {
   "cell_type": "code",
   "execution_count": 3,
   "metadata": {},
   "outputs": [
    {
     "data": {
      "image/jpeg": "[encoded data removed]",
      "text/plain": [
       "<IPython.core.display.Image object>"
      ]
     },
     "execution_count": 3,
     "metadata": {},
     "output_type": "execute_result"
    }
   ],
   "source": [
    "np_image=np.array(Image.open('image.jpg')) # PIXELS ARE STORED IN A NP-ARRAY\n",
    "display.Image(\"image.jpg\")"
   ]
  },
  {
   "cell_type": "code",
   "execution_count": 4,
   "metadata": {},
   "outputs": [
    {
     "name": "stdout",
     "output_type": "stream",
     "text": [
      "[[[253 253 253]\n",
      "  [253 253 253]\n",
      "  [253 253 253]\n",
      "  ...\n",
      "  [255 255 255]\n",
      "  [255 255 255]\n",
      "  [255 255 255]]\n",
      "\n",
      " [[253 253 253]\n",
      "  [253 253 253]\n",
      "  [253 253 253]\n",
      "  ...\n",
      "  [255 255 255]\n",
      "  [255 255 255]\n",
      "  [255 255 255]]\n",
      "\n",
      " [[253 253 253]\n",
      "  [253 253 253]\n",
      "  [253 253 253]\n",
      "  ...\n",
      "  [255 255 255]\n",
      "  [255 255 255]\n",
      "  [255 255 255]]\n",
      "\n",
      " ...\n",
      "\n",
      " [[254 255 204]\n",
      "  [240 250 225]\n",
      "  [226 229 255]\n",
      "  ...\n",
      "  [215   7 143]\n",
      "  [215   7 143]\n",
      "  [215   7 143]]\n",
      "\n",
      " [[215 216 185]\n",
      "  [254 255 218]\n",
      "  [248 255 239]\n",
      "  ...\n",
      "  [217   9 145]\n",
      "  [217   9 145]\n",
      "  [217   9 145]]\n",
      "\n",
      " [[255 248 255]\n",
      "  [240 244 211]\n",
      "  [249 255 216]\n",
      "  ...\n",
      "  [218  10 146]\n",
      "  [218  10 146]\n",
      "  [218  10 146]]]\n"
     ]
    }
   ],
   "source": [
    "print(np_image)"
   ]
  },
  {
   "cell_type": "code",
   "execution_count": 5,
   "metadata": {},
   "outputs": [],
   "source": [
    "np_encrypted=np_image.astype(bytes) #NP-ARRAY TO STORE THE ENCRYPTED NUMBERS IN BYTE-ARRAY"
   ]
  },
  {
   "cell_type": "code",
   "execution_count": 6,
   "metadata": {},
   "outputs": [],
   "source": [
    "password=\"aespython\"\n",
    "passwordSalt=os.urandom(16)\n",
    "key=pbkdf2.PBKDF2(password, passwordSalt).read(32) #KEY - PRE-SHARED WITH THE RECEIVER\n",
    "iv=secrets.randbits(256) #INITIALIZATION VECTOR - PRE-SHARED WITH THE RECEIVER\n",
    "\n",
    "for i in range(0,len(np_image)): #ENCRYPTION\n",
    "    for j in range(0,len(np_image[i])):\n",
    "        for k in range(0,len(np_image[i][j])):\n",
    "            aes=pyaes.AESModeOfOperationCTR(key,pyaes.Counter(iv))\n",
    "            np_encrypted[i][j][k]=aes.encrypt(str(np_image[i][j][k]))"
   ]
  },
  {
   "cell_type": "code",
   "execution_count": 7,
   "metadata": {},
   "outputs": [
    {
     "name": "stdout",
     "output_type": "stream",
     "text": [
      "[[[b')\\x08b' b')\\x08b' b')\\x08b']\n",
      "  [b')\\x08b' b')\\x08b' b')\\x08b']\n",
      "  [b')\\x08b' b')\\x08b' b')\\x08b']\n",
      "  ...\n",
      "  [b')\\x08d' b')\\x08d' b')\\x08d']\n",
      "  [b')\\x08d' b')\\x08d' b')\\x08d']\n",
      "  [b')\\x08d' b')\\x08d' b')\\x08d']]\n",
      "\n",
      " [[b')\\x08b' b')\\x08b' b')\\x08b']\n",
      "  [b')\\x08b' b')\\x08b' b')\\x08b']\n",
      "  [b')\\x08b' b')\\x08b' b')\\x08b']\n",
      "  ...\n",
      "  [b')\\x08d' b')\\x08d' b')\\x08d']\n",
      "  [b')\\x08d' b')\\x08d' b')\\x08d']\n",
      "  [b')\\x08d' b')\\x08d' b')\\x08d']]\n",
      "\n",
      " [[b')\\x08b' b')\\x08b' b')\\x08b']\n",
      "  [b')\\x08b' b')\\x08b' b')\\x08b']\n",
      "  [b')\\x08b' b')\\x08b' b')\\x08b']\n",
      "  ...\n",
      "  [b')\\x08d' b')\\x08d' b')\\x08d']\n",
      "  [b')\\x08d' b')\\x08d' b')\\x08d']\n",
      "  [b')\\x08d' b')\\x08d' b')\\x08d']]\n",
      "\n",
      " ...\n",
      "\n",
      " [[b')\\x08e' b')\\x08d' b')\\re']\n",
      "  [b')\\ta' b')\\x08a' b')\\x0fd']\n",
      "  [b')\\x0fg' b')\\x0fh' b')\\x08d']\n",
      "  ...\n",
      "  [b')\\x0cd' b',' b'*\\tb']\n",
      "  [b')\\x0cd' b',' b'*\\tb']\n",
      "  [b')\\x0cd' b',' b'*\\tb']]\n",
      "\n",
      " [[b')\\x0cd' b')\\x0cg' b'*\\x05d']\n",
      "  [b')\\x08e' b')\\x08d' b')\\x0ci']\n",
      "  [b')\\ti' b')\\x08d' b')\\x0eh']\n",
      "  ...\n",
      "  [b')\\x0cf' b'\"' b'*\\td']\n",
      "  [b')\\x0cf' b'\"' b'*\\td']\n",
      "  [b')\\x0cf' b'\"' b'*\\td']]\n",
      "\n",
      " [[b')\\x08d' b')\\ti' b')\\x08d']\n",
      "  [b')\\ta' b')\\te' b')\\x0c`']\n",
      "  [b')\\th' b')\\x08d' b')\\x0cg']\n",
      "  ...\n",
      "  [b')\\x0ci' b'*\\r' b'*\\tg']\n",
      "  [b')\\x0ci' b'*\\r' b'*\\tg']\n",
      "  [b')\\x0ci' b'*\\r' b'*\\tg']]]\n"
     ]
    }
   ],
   "source": [
    "print(np_encrypted)"
   ]
  },
  {
   "cell_type": "code",
   "execution_count": 8,
   "metadata": {},
   "outputs": [],
   "source": [
    "np_decrypted=np_image.astype(int) #NP-ARRAY TO STORE THE DECRYPTED NUMBERS "
   ]
  },
  {
   "cell_type": "code",
   "execution_count": 9,
   "metadata": {},
   "outputs": [],
   "source": [
    "for i in range(0,len(np_encrypted)): #DECRYPTION\n",
    "    for j in range(0,len(np_encrypted[i])):\n",
    "        for k in range(0,len(np_encrypted[i][j])):\n",
    "            aes=pyaes.AESModeOfOperationCTR(key,pyaes.Counter(iv))\n",
    "            np_decrypted[i][j][k]=int(aes.decrypt(np_encrypted[i][j][k]))"
   ]
  },
  {
   "cell_type": "code",
   "execution_count": 10,
   "metadata": {},
   "outputs": [
    {
     "name": "stdout",
     "output_type": "stream",
     "text": [
      "[[[253 253 253]\n",
      "  [253 253 253]\n",
      "  [253 253 253]\n",
      "  ...\n",
      "  [255 255 255]\n",
      "  [255 255 255]\n",
      "  [255 255 255]]\n",
      "\n",
      " [[253 253 253]\n",
      "  [253 253 253]\n",
      "  [253 253 253]\n",
      "  ...\n",
      "  [255 255 255]\n",
      "  [255 255 255]\n",
      "  [255 255 255]]\n",
      "\n",
      " [[253 253 253]\n",
      "  [253 253 253]\n",
      "  [253 253 253]\n",
      "  ...\n",
      "  [255 255 255]\n",
      "  [255 255 255]\n",
      "  [255 255 255]]\n",
      "\n",
      " ...\n",
      "\n",
      " [[254 255 204]\n",
      "  [240 250 225]\n",
      "  [226 229 255]\n",
      "  ...\n",
      "  [215   7 143]\n",
      "  [215   7 143]\n",
      "  [215   7 143]]\n",
      "\n",
      " [[215 216 185]\n",
      "  [254 255 218]\n",
      "  [248 255 239]\n",
      "  ...\n",
      "  [217   9 145]\n",
      "  [217   9 145]\n",
      "  [217   9 145]]\n",
      "\n",
      " [[255 248 255]\n",
      "  [240 244 211]\n",
      "  [249 255 216]\n",
      "  ...\n",
      "  [218  10 146]\n",
      "  [218  10 146]\n",
      "  [218  10 146]]]\n"
     ]
    }
   ],
   "source": [
    "print(np_decrypted)"
   ]
  },
  {
   "cell_type": "code",
   "execution_count": null,
   "metadata": {},
   "outputs": [],
   "source": [
    "decrypted_img=Image.fromarray(np_decrypted)\n",
    "\n",
    "decrypted_img.save('decrypted.jpg')"
   ]
  }
 ],
 "metadata": {
  "kernelspec": {
   "display_name": "Python 3",
   "language": "python",
   "name": "python3"
  },
  "language_info": {
   "codemirror_mode": {
    "name": "ipython",
    "version": 3
   },
   "file_extension": ".py",
   "mimetype": "text/x-python",
   "name": "python",
   "nbconvert_exporter": "python",
   "pygments_lexer": "ipython3",
   "version": "3.8.5"
  }
 },
 "nbformat": 4,
 "nbformat_minor": 4
}
