{
 "cells": [
  {
   "cell_type": "markdown",
   "metadata": {},
   "source": [
    "# IMAGE ENCRYPTION USING AES\n",
    "\n",
    "- All numbers used to represent the pixels are encrypted and is later decrypted using AES (Advanced Encryption Standard)\n",
    "- Source AES Algorithm : https://cryptobook.nakov.com/symmetric-key-ciphers/aes-encrypt-decrypt-examples"
   ]
  },
  {
   "cell_type": "code",
   "execution_count": 1,
   "metadata": {},
   "outputs": [],
   "source": [
    "from PIL import Image\n",
    "import numpy as np\n",
    "from IPython import display\n",
    "\n",
    "import pyaes\n",
    "import pbkdf2\n",
    "import os\n",
    "import secrets\n",
    "\n",
    "import time"
   ]
  },
  {
   "cell_type": "markdown",
   "metadata": {},
   "source": [
    "### STORING PIXELS OF IMAGES IN A NUMPY ARRAY"
   ]
  },
  {
   "cell_type": "code",
   "execution_count": 2,
   "metadata": {},
   "outputs": [
    {
     "data": {
      "image/jpeg": "[encoded data removed]",
      "text/plain": [
       "<IPython.core.display.Image object>"
      ]
     },
     "execution_count": 2,
     "metadata": {},
     "output_type": "execute_result"
    }
   ],
   "source": [
    "np_image=np.array(Image.open(\"res/image.jpg\")) # PIXELS ARE STORED IN A NP-ARRAY\n",
    "display.Image(\"res/image.jpg\")"
   ]
  },
  {
   "cell_type": "code",
   "execution_count": 3,
   "metadata": {},
   "outputs": [
    {
     "name": "stdout",
     "output_type": "stream",
     "text": [
      "[[[253 253 253]\n",
      "  [253 253 253]\n",
      "  [253 253 253]\n",
      "  ...\n",
      "  [255 255 255]\n",
      "  [255 255 255]\n",
      "  [255 255 255]]\n",
      "\n",
      " [[253 253 253]\n",
      "  [253 253 253]\n",
      "  [253 253 253]\n",
      "  ...\n",
      "  [255 255 255]\n",
      "  [255 255 255]\n",
      "  [255 255 255]]\n",
      "\n",
      " [[253 253 253]\n",
      "  [253 253 253]\n",
      "  [253 253 253]\n",
      "  ...\n",
      "  [255 255 255]\n",
      "  [255 255 255]\n",
      "  [255 255 255]]\n",
      "\n",
      " ...\n",
      "\n",
      " [[254 255 204]\n",
      "  [240 250 225]\n",
      "  [226 229 255]\n",
      "  ...\n",
      "  [215   7 143]\n",
      "  [215   7 143]\n",
      "  [215   7 143]]\n",
      "\n",
      " [[215 216 185]\n",
      "  [254 255 218]\n",
      "  [248 255 239]\n",
      "  ...\n",
      "  [217   9 145]\n",
      "  [217   9 145]\n",
      "  [217   9 145]]\n",
      "\n",
      " [[255 248 255]\n",
      "  [240 244 211]\n",
      "  [249 255 216]\n",
      "  ...\n",
      "  [218  10 146]\n",
      "  [218  10 146]\n",
      "  [218  10 146]]]\n"
     ]
    }
   ],
   "source": [
    "print(np_image)"
   ]
  },
  {
   "cell_type": "code",
   "execution_count": 4,
   "metadata": {},
   "outputs": [],
   "source": [
    "np_encrypted=np_image.astype(bytes) #NP-ARRAY TO STORE THE ENCRYPTED PIXELS AS BYTES"
   ]
  },
  {
   "cell_type": "markdown",
   "metadata": {},
   "source": [
    "### ENCRYPTION USING AES"
   ]
  },
  {
   "cell_type": "code",
   "execution_count": 5,
   "metadata": {},
   "outputs": [],
   "source": [
    "password=\"aespython\"\n",
    "passwordSalt=os.urandom(16)\n",
    "key=pbkdf2.PBKDF2(password, passwordSalt).read(32) #KEY - PRE-SHARED WITH THE RECEIVER\n",
    "iv=secrets.randbits(256) #INITIALIZATION VECTOR - PRE-SHARED WITH THE RECEIVER\n",
    "\n",
    "for i in range(0,len(np_image)): #ENCRYPTION\n",
    "    for j in range(0,len(np_image[i])):\n",
    "        for k in range(0,len(np_image[i][j])):\n",
    "            aes=pyaes.AESModeOfOperationCTR(key,pyaes.Counter(iv))\n",
    "            np_encrypted[i][j][k]=aes.encrypt(str(np_image[i][j][k]))"
   ]
  },
  {
   "cell_type": "code",
   "execution_count": 6,
   "metadata": {},
   "outputs": [
    {
     "name": "stdout",
     "output_type": "stream",
     "text": [
      "[[[b'SsH' b'SsH' b'SsH']\n",
      "  [b'SsH' b'SsH' b'SsH']\n",
      "  [b'SsH' b'SsH' b'SsH']\n",
      "  ...\n",
      "  [b'SsN' b'SsN' b'SsN']\n",
      "  [b'SsN' b'SsN' b'SsN']\n",
      "  [b'SsN' b'SsN' b'SsN']]\n",
      "\n",
      " [[b'SsH' b'SsH' b'SsH']\n",
      "  [b'SsH' b'SsH' b'SsH']\n",
      "  [b'SsH' b'SsH' b'SsH']\n",
      "  ...\n",
      "  [b'SsN' b'SsN' b'SsN']\n",
      "  [b'SsN' b'SsN' b'SsN']\n",
      "  [b'SsN' b'SsN' b'SsN']]\n",
      "\n",
      " [[b'SsH' b'SsH' b'SsH']\n",
      "  [b'SsH' b'SsH' b'SsH']\n",
      "  [b'SsH' b'SsH' b'SsH']\n",
      "  ...\n",
      "  [b'SsN' b'SsN' b'SsN']\n",
      "  [b'SsN' b'SsN' b'SsN']\n",
      "  [b'SsN' b'SsN' b'SsN']]\n",
      "\n",
      " ...\n",
      "\n",
      " [[b'SsO' b'SsN' b'SvO']\n",
      "  [b'SrK' b'SsK' b'StN']\n",
      "  [b'StM' b'StB' b'SsN']\n",
      "  ...\n",
      "  [b'SwN' b'V' b'PrH']\n",
      "  [b'SwN' b'V' b'PrH']\n",
      "  [b'SwN' b'V' b'PrH']]\n",
      "\n",
      " [[b'SwN' b'SwM' b'P~N']\n",
      "  [b'SsO' b'SsN' b'SwC']\n",
      "  [b'SrC' b'SsN' b'SuB']\n",
      "  ...\n",
      "  [b'SwL' b'X' b'PrN']\n",
      "  [b'SwL' b'X' b'PrN']\n",
      "  [b'SwL' b'X' b'PrN']]\n",
      "\n",
      " [[b'SsN' b'SrC' b'SsN']\n",
      "  [b'SrK' b'SrO' b'SwJ']\n",
      "  [b'SrB' b'SsN' b'SwM']\n",
      "  ...\n",
      "  [b'SwC' b'Pv' b'PrM']\n",
      "  [b'SwC' b'Pv' b'PrM']\n",
      "  [b'SwC' b'Pv' b'PrM']]]\n"
     ]
    }
   ],
   "source": [
    "print(np_encrypted)"
   ]
  },
  {
   "cell_type": "code",
   "execution_count": 7,
   "metadata": {},
   "outputs": [],
   "source": [
    "np_decrypted=np_image.copy() #NP-ARRAY TO STORE THE DECRYPTED PIXEL VALUES"
   ]
  },
  {
   "cell_type": "markdown",
   "metadata": {},
   "source": [
    "### DECRYPTION USING AES"
   ]
  },
  {
   "cell_type": "code",
   "execution_count": 8,
   "metadata": {},
   "outputs": [],
   "source": [
    "for i in range(0,len(np_encrypted)): #DECRYPTION\n",
    "    for j in range(0,len(np_encrypted[i])):\n",
    "        for k in range(0,len(np_encrypted[i][j])):\n",
    "            aes=pyaes.AESModeOfOperationCTR(key,pyaes.Counter(iv))\n",
    "            np_decrypted[i][j][k]=int(aes.decrypt(np_encrypted[i][j][k]))"
   ]
  },
  {
   "cell_type": "code",
   "execution_count": 9,
   "metadata": {},
   "outputs": [
    {
     "name": "stdout",
     "output_type": "stream",
     "text": [
      "[[[253 253 253]\n",
      "  [253 253 253]\n",
      "  [253 253 253]\n",
      "  ...\n",
      "  [255 255 255]\n",
      "  [255 255 255]\n",
      "  [255 255 255]]\n",
      "\n",
      " [[253 253 253]\n",
      "  [253 253 253]\n",
      "  [253 253 253]\n",
      "  ...\n",
      "  [255 255 255]\n",
      "  [255 255 255]\n",
      "  [255 255 255]]\n",
      "\n",
      " [[253 253 253]\n",
      "  [253 253 253]\n",
      "  [253 253 253]\n",
      "  ...\n",
      "  [255 255 255]\n",
      "  [255 255 255]\n",
      "  [255 255 255]]\n",
      "\n",
      " ...\n",
      "\n",
      " [[254 255 204]\n",
      "  [240 250 225]\n",
      "  [226 229 255]\n",
      "  ...\n",
      "  [215   7 143]\n",
      "  [215   7 143]\n",
      "  [215   7 143]]\n",
      "\n",
      " [[215 216 185]\n",
      "  [254 255 218]\n",
      "  [248 255 239]\n",
      "  ...\n",
      "  [217   9 145]\n",
      "  [217   9 145]\n",
      "  [217   9 145]]\n",
      "\n",
      " [[255 248 255]\n",
      "  [240 244 211]\n",
      "  [249 255 216]\n",
      "  ...\n",
      "  [218  10 146]\n",
      "  [218  10 146]\n",
      "  [218  10 146]]]\n"
     ]
    }
   ],
   "source": [
    "print(np_decrypted)"
   ]
  },
  {
   "cell_type": "markdown",
   "metadata": {},
   "source": [
    "### SAVING THE IMAGE"
   ]
  },
  {
   "cell_type": "code",
   "execution_count": 10,
   "metadata": {},
   "outputs": [],
   "source": [
    "decrypted_img=Image.fromarray(np_decrypted)\n",
    "\n",
    "decrypted_img.save(\"res/decrypted.jpg\")"
   ]
  },
  {
   "cell_type": "code",
   "execution_count": 11,
   "metadata": {},
   "outputs": [
    {
     "data": {
      "image/jpeg": "[encoded data removed]",
      "text/plain": [
       "<IPython.core.display.Image object>"
      ]
     },
     "execution_count": 11,
     "metadata": {},
     "output_type": "execute_result"
    }
   ],
   "source": [
    "display.Image(\"res/decrypted.jpg\")"
   ]
  },
  {
   "cell_type": "markdown",
   "metadata": {},
   "source": [
    "### AVERAGE RUNNING TIME\n",
    "\n",
    "- A"
   ]
  }
 ],
 "metadata": {
  "kernelspec": {
   "display_name": "Python 3",
   "language": "python",
   "name": "python3"
  },
  "language_info": {
   "codemirror_mode": {
    "name": "ipython",
    "version": 3
   },
   "file_extension": ".py",
   "mimetype": "text/x-python",
   "name": "python",
   "nbconvert_exporter": "python",
   "pygments_lexer": "ipython3",
   "version": "3.8.5"
  }
 },
 "nbformat": 4,
 "nbformat_minor": 4
}
